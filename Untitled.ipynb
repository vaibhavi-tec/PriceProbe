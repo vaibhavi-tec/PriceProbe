{
 "cells": [
  {
   "cell_type": "code",
   "execution_count": 7,
   "id": "b3f35b7e",
   "metadata": {},
   "outputs": [
    {
     "ename": "ModuleNotFoundError",
     "evalue": "No module named 'altair.vegalite.v4'",
     "output_type": "error",
     "traceback": [
      "\u001b[1;31m---------------------------------------------------------------------------\u001b[0m",
      "\u001b[1;31mModuleNotFoundError\u001b[0m                       Traceback (most recent call last)",
      "\u001b[1;32m~\\PycharmProjects\\Streamlite\\main.py\u001b[0m in \u001b[0;36m<module>\u001b[1;34m\u001b[0m\n\u001b[1;32m----> 1\u001b[1;33m \u001b[1;32mimport\u001b[0m \u001b[0mstreamlit\u001b[0m \u001b[1;32mas\u001b[0m \u001b[0mst\u001b[0m\u001b[1;33m\u001b[0m\u001b[1;33m\u001b[0m\u001b[0m\n\u001b[0m\u001b[0;32m      2\u001b[0m \u001b[1;32mfrom\u001b[0m \u001b[0mstreamlit_option_menu\u001b[0m \u001b[1;32mimport\u001b[0m \u001b[0moption_menu\u001b[0m\u001b[1;33m\u001b[0m\u001b[1;33m\u001b[0m\u001b[0m\n\u001b[0;32m      3\u001b[0m \u001b[1;33m\u001b[0m\u001b[0m\n\u001b[0;32m      4\u001b[0m \u001b[1;33m\u001b[0m\u001b[0m\n\u001b[0;32m      5\u001b[0m \u001b[1;32mimport\u001b[0m \u001b[0mAccount\u001b[0m\u001b[1;33m,\u001b[0m \u001b[0mAbout\u001b[0m\u001b[1;33m,\u001b[0m \u001b[0mService\u001b[0m\u001b[1;33m,\u001b[0m \u001b[0mContact\u001b[0m\u001b[1;33m,\u001b[0m \u001b[0mChatbot\u001b[0m\u001b[1;33m,\u001b[0m \u001b[0mHome\u001b[0m\u001b[1;33m\u001b[0m\u001b[1;33m\u001b[0m\u001b[0m\n",
      "\u001b[1;32mD:\\course\\py\\lib\\site-packages\\streamlit\\__init__.py\u001b[0m in \u001b[0;36m<module>\u001b[1;34m\u001b[0m\n\u001b[0;32m     68\u001b[0m \u001b[1;32mfrom\u001b[0m \u001b[0mstreamlit\u001b[0m \u001b[1;32mimport\u001b[0m \u001b[0msource_util\u001b[0m \u001b[1;32mas\u001b[0m \u001b[0m_source_util\u001b[0m\u001b[1;33m\u001b[0m\u001b[1;33m\u001b[0m\u001b[0m\n\u001b[0;32m     69\u001b[0m \u001b[1;32mfrom\u001b[0m \u001b[0mstreamlit\u001b[0m \u001b[1;32mimport\u001b[0m \u001b[0mstring_util\u001b[0m \u001b[1;32mas\u001b[0m \u001b[0m_string_util\u001b[0m\u001b[1;33m\u001b[0m\u001b[1;33m\u001b[0m\u001b[0m\n\u001b[1;32m---> 70\u001b[1;33m \u001b[1;32mfrom\u001b[0m \u001b[0mstreamlit\u001b[0m\u001b[1;33m.\u001b[0m\u001b[0mdelta_generator\u001b[0m \u001b[1;32mimport\u001b[0m \u001b[0mDeltaGenerator\u001b[0m \u001b[1;32mas\u001b[0m \u001b[0m_DeltaGenerator\u001b[0m\u001b[1;33m\u001b[0m\u001b[1;33m\u001b[0m\u001b[0m\n\u001b[0m\u001b[0;32m     71\u001b[0m from streamlit.runtime.scriptrunner import (\n\u001b[0;32m     72\u001b[0m     \u001b[0madd_script_run_ctx\u001b[0m \u001b[1;32mas\u001b[0m \u001b[0m_add_script_run_ctx\u001b[0m\u001b[1;33m,\u001b[0m\u001b[1;33m\u001b[0m\u001b[1;33m\u001b[0m\u001b[0m\n",
      "\u001b[1;32mD:\\course\\py\\lib\\site-packages\\streamlit\\delta_generator.py\u001b[0m in \u001b[0;36m<module>\u001b[1;34m\u001b[0m\n\u001b[0;32m     88\u001b[0m \u001b[1;31m# We select between them with the DataFrameElementSelectorMixin.\u001b[0m\u001b[1;33m\u001b[0m\u001b[1;33m\u001b[0m\u001b[0m\n\u001b[0;32m     89\u001b[0m \u001b[1;32mfrom\u001b[0m \u001b[0mstreamlit\u001b[0m\u001b[1;33m.\u001b[0m\u001b[0melements\u001b[0m\u001b[1;33m.\u001b[0m\u001b[0marrow\u001b[0m \u001b[1;32mimport\u001b[0m \u001b[0mArrowMixin\u001b[0m\u001b[1;33m\u001b[0m\u001b[1;33m\u001b[0m\u001b[0m\n\u001b[1;32m---> 90\u001b[1;33m \u001b[1;32mfrom\u001b[0m \u001b[0mstreamlit\u001b[0m\u001b[1;33m.\u001b[0m\u001b[0melements\u001b[0m\u001b[1;33m.\u001b[0m\u001b[0marrow_altair\u001b[0m \u001b[1;32mimport\u001b[0m \u001b[0mArrowAltairMixin\u001b[0m\u001b[1;33m\u001b[0m\u001b[1;33m\u001b[0m\u001b[0m\n\u001b[0m\u001b[0;32m     91\u001b[0m \u001b[1;32mfrom\u001b[0m \u001b[0mstreamlit\u001b[0m\u001b[1;33m.\u001b[0m\u001b[0melements\u001b[0m\u001b[1;33m.\u001b[0m\u001b[0marrow_vega_lite\u001b[0m \u001b[1;32mimport\u001b[0m \u001b[0mArrowVegaLiteMixin\u001b[0m\u001b[1;33m\u001b[0m\u001b[1;33m\u001b[0m\u001b[0m\n\u001b[0;32m     92\u001b[0m \u001b[1;32mfrom\u001b[0m \u001b[0mstreamlit\u001b[0m\u001b[1;33m.\u001b[0m\u001b[0melements\u001b[0m\u001b[1;33m.\u001b[0m\u001b[0mlegacy_data_frame\u001b[0m \u001b[1;32mimport\u001b[0m \u001b[0mLegacyDataFrameMixin\u001b[0m\u001b[1;33m\u001b[0m\u001b[1;33m\u001b[0m\u001b[0m\n",
      "\u001b[1;32mD:\\course\\py\\lib\\site-packages\\streamlit\\elements\\arrow_altair.py\u001b[0m in \u001b[0;36m<module>\u001b[1;34m\u001b[0m\n\u001b[0;32m     33\u001b[0m \u001b[1;32mimport\u001b[0m \u001b[0maltair\u001b[0m \u001b[1;32mas\u001b[0m \u001b[0malt\u001b[0m\u001b[1;33m\u001b[0m\u001b[1;33m\u001b[0m\u001b[0m\n\u001b[0;32m     34\u001b[0m \u001b[1;32mimport\u001b[0m \u001b[0mpandas\u001b[0m \u001b[1;32mas\u001b[0m \u001b[0mpd\u001b[0m\u001b[1;33m\u001b[0m\u001b[1;33m\u001b[0m\u001b[0m\n\u001b[1;32m---> 35\u001b[1;33m \u001b[1;32mfrom\u001b[0m \u001b[0maltair\u001b[0m\u001b[1;33m.\u001b[0m\u001b[0mvegalite\u001b[0m\u001b[1;33m.\u001b[0m\u001b[0mv4\u001b[0m\u001b[1;33m.\u001b[0m\u001b[0mapi\u001b[0m \u001b[1;32mimport\u001b[0m \u001b[0mChart\u001b[0m\u001b[1;33m\u001b[0m\u001b[1;33m\u001b[0m\u001b[0m\n\u001b[0m\u001b[0;32m     36\u001b[0m \u001b[1;32mfrom\u001b[0m \u001b[0mpandas\u001b[0m\u001b[1;33m.\u001b[0m\u001b[0mapi\u001b[0m\u001b[1;33m.\u001b[0m\u001b[0mtypes\u001b[0m \u001b[1;32mimport\u001b[0m \u001b[0minfer_dtype\u001b[0m\u001b[1;33m\u001b[0m\u001b[1;33m\u001b[0m\u001b[0m\n\u001b[0;32m     37\u001b[0m \u001b[1;33m\u001b[0m\u001b[0m\n",
      "\u001b[1;31mModuleNotFoundError\u001b[0m: No module named 'altair.vegalite.v4'"
     ]
    }
   ],
   "source": [
    "run main.py\n"
   ]
  },
  {
   "cell_type": "code",
   "execution_count": 2,
   "id": "1042ea80",
   "metadata": {},
   "outputs": [
    {
     "name": "stdout",
     "output_type": "stream",
     "text": [
      "Note: you may need to restart the kernel to use updated packages.\n"
     ]
    },
    {
     "name": "stderr",
     "output_type": "stream",
     "text": [
      "WARNING: Ignoring invalid distribution -eras (d:\\course\\py\\lib\\site-packages)\n",
      "WARNING: Ignoring invalid distribution -rotobuf (d:\\course\\py\\lib\\site-packages)\n",
      "WARNING: Ignoring invalid distribution -umpy (d:\\course\\py\\lib\\site-packages)\n",
      "WARNING: Ignoring invalid distribution -ygments (d:\\course\\py\\lib\\site-packages)\n",
      "ERROR: Could not find a version that satisfies the requirement altair.vegalite.v4 (from versions: none)\n",
      "ERROR: No matching distribution found for altair.vegalite.v4\n"
     ]
    }
   ],
   "source": [
    "pip install altair.vegalite.v4"
   ]
  },
  {
   "cell_type": "code",
   "execution_count": 4,
   "id": "ffbd30aa",
   "metadata": {},
   "outputs": [
    {
     "name": "stdout",
     "output_type": "stream",
     "text": [
      "Requirement already satisfied: altair in d:\\course\\py\\lib\\site-packages (5.2.0)\n",
      "Requirement already satisfied: jinja2 in d:\\course\\py\\lib\\site-packages (from altair) (2.11.3)\n",
      "Requirement already satisfied: jsonschema>=3.0 in d:\\course\\py\\lib\\site-packages (from altair) (3.2.0)\n",
      "Requirement already satisfied: numpy in d:\\course\\py\\lib\\site-packages (from altair) (1.26.4)\n",
      "Requirement already satisfied: packaging in d:\\course\\py\\lib\\site-packages (from altair) (20.9)\n",
      "Requirement already satisfied: pandas>=0.25 in d:\\course\\py\\lib\\site-packages (from altair) (1.3.4)\n",
      "Requirement already satisfied: toolz in d:\\course\\py\\lib\\site-packages (from altair) (0.11.1)\n",
      "Requirement already satisfied: typing-extensions>=4.0.1 in d:\\course\\py\\lib\\site-packages (from altair) (4.7.0)\n",
      "Requirement already satisfied: attrs>=17.4.0 in d:\\course\\py\\lib\\site-packages (from jsonschema>=3.0->altair) (21.2.0)\n",
      "Requirement already satisfied: pyrsistent>=0.14.0 in d:\\course\\py\\lib\\site-packages (from jsonschema>=3.0->altair) (0.18.0)\n",
      "Requirement already satisfied: setuptools in d:\\course\\py\\lib\\site-packages (from jsonschema>=3.0->altair) (67.8.0)\n",
      "Requirement already satisfied: six>=1.11.0 in d:\\course\\py\\lib\\site-packages (from jsonschema>=3.0->altair) (1.16.0)\n",
      "Requirement already satisfied: python-dateutil>=2.7.3 in d:\\course\\py\\lib\\site-packages (from pandas>=0.25->altair) (2.8.2)\n",
      "Requirement already satisfied: pytz>=2017.3 in d:\\course\\py\\lib\\site-packages (from pandas>=0.25->altair) (2021.3)\n",
      "Requirement already satisfied: MarkupSafe>=0.23 in d:\\course\\py\\lib\\site-packages (from jinja2->altair) (1.1.1)\n",
      "Requirement already satisfied: pyparsing>=2.0.2 in d:\\course\\py\\lib\\site-packages (from packaging->altair) (3.0.4)\n",
      "Note: you may need to restart the kernel to use updated packages.\n"
     ]
    },
    {
     "name": "stderr",
     "output_type": "stream",
     "text": [
      "WARNING: Ignoring invalid distribution -eras (d:\\course\\py\\lib\\site-packages)\n",
      "WARNING: Ignoring invalid distribution -rotobuf (d:\\course\\py\\lib\\site-packages)\n",
      "WARNING: Ignoring invalid distribution -umpy (d:\\course\\py\\lib\\site-packages)\n",
      "WARNING: Ignoring invalid distribution -ygments (d:\\course\\py\\lib\\site-packages)\n",
      "WARNING: Ignoring invalid distribution -eras (d:\\course\\py\\lib\\site-packages)\n",
      "WARNING: Ignoring invalid distribution -rotobuf (d:\\course\\py\\lib\\site-packages)\n",
      "WARNING: Ignoring invalid distribution -umpy (d:\\course\\py\\lib\\site-packages)\n",
      "WARNING: Ignoring invalid distribution -ygments (d:\\course\\py\\lib\\site-packages)\n",
      "DEPRECATION: pyodbc 4.0.0-unsupported has a non-standard version number. pip 24.1 will enforce this behaviour change. A possible replacement is to upgrade to a newer version of pyodbc or contact the author to suggest that they release a version with a conforming version number. Discussion can be found at https://github.com/pypa/pip/issues/12063\n"
     ]
    }
   ],
   "source": [
    "pip install altair\n"
   ]
  },
  {
   "cell_type": "code",
   "execution_count": 5,
   "id": "825678fe",
   "metadata": {},
   "outputs": [
    {
     "name": "stdout",
     "output_type": "stream",
     "text": [
      "Name: altair\n",
      "Version: 5.2.0\n",
      "Summary: Vega-Altair: A declarative statistical visualization library for Python.\n",
      "Home-page: \n",
      "Author: Vega-Altair Contributors\n",
      "Author-email: \n",
      "License: \n",
      "Location: d:\\course\\py\\lib\\site-packages\n",
      "Requires: jinja2, jsonschema, numpy, packaging, pandas, toolz, typing-extensions\n",
      "Required-by: streamlit\n",
      "Note: you may need to restart the kernel to use updated packages.\n"
     ]
    },
    {
     "name": "stderr",
     "output_type": "stream",
     "text": [
      "WARNING: Ignoring invalid distribution -eras (d:\\course\\py\\lib\\site-packages)\n",
      "WARNING: Ignoring invalid distribution -rotobuf (d:\\course\\py\\lib\\site-packages)\n",
      "WARNING: Ignoring invalid distribution -umpy (d:\\course\\py\\lib\\site-packages)\n",
      "WARNING: Ignoring invalid distribution -ygments (d:\\course\\py\\lib\\site-packages)\n"
     ]
    }
   ],
   "source": [
    "pip show altair\n"
   ]
  },
  {
   "cell_type": "code",
   "execution_count": 6,
   "id": "4cca450d",
   "metadata": {},
   "outputs": [
    {
     "name": "stdout",
     "output_type": "stream",
     "text": [
      "Name: streamlit\n",
      "Version: 1.12.0\n",
      "Summary: The fastest way to build data apps in Python\n",
      "Home-page: https://streamlit.io\n",
      "Author: Streamlit Inc\n",
      "Author-email: hello@streamlit.io\n",
      "License: Apache 2\n",
      "Location: d:\\course\\py\\lib\\site-packages\n",
      "Requires: altair, blinker, cachetools, click, gitpython, importlib-metadata, numpy, packaging, pandas, pillow, protobuf, pyarrow, pydeck, pympler, python-dateutil, requests, rich, semver, toml, tornado, typing-extensions, tzlocal, validators, watchdog\n",
      "Required-by: \n",
      "Note: you may need to restart the kernel to use updated packages.\n"
     ]
    },
    {
     "name": "stderr",
     "output_type": "stream",
     "text": [
      "WARNING: Ignoring invalid distribution -eras (d:\\course\\py\\lib\\site-packages)\n",
      "WARNING: Ignoring invalid distribution -rotobuf (d:\\course\\py\\lib\\site-packages)\n",
      "WARNING: Ignoring invalid distribution -umpy (d:\\course\\py\\lib\\site-packages)\n",
      "WARNING: Ignoring invalid distribution -ygments (d:\\course\\py\\lib\\site-packages)\n"
     ]
    }
   ],
   "source": [
    "\n",
    "pip show streamlit\n"
   ]
  },
  {
   "cell_type": "code",
   "execution_count": null,
   "id": "1bf0b526",
   "metadata": {},
   "outputs": [],
   "source": []
  }
 ],
 "metadata": {
  "kernelspec": {
   "display_name": "Python 3 (ipykernel)",
   "language": "python",
   "name": "python3"
  },
  "language_info": {
   "codemirror_mode": {
    "name": "ipython",
    "version": 3
   },
   "file_extension": ".py",
   "mimetype": "text/x-python",
   "name": "python",
   "nbconvert_exporter": "python",
   "pygments_lexer": "ipython3",
   "version": "3.9.7"
  }
 },
 "nbformat": 4,
 "nbformat_minor": 5
}
